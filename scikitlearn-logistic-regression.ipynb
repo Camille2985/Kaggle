{
 "cells": [
  {
   "cell_type": "code",
   "execution_count": 1,
   "id": "a2862fb3",
   "metadata": {
    "_cell_guid": "b1076dfc-b9ad-4769-8c92-a6c4dae69d19",
    "_uuid": "8f2839f25d086af736a60e9eeb907d3b93b6e0e5",
    "execution": {
     "iopub.execute_input": "2022-11-02T16:46:18.607764Z",
     "iopub.status.busy": "2022-11-02T16:46:18.607327Z",
     "iopub.status.idle": "2022-11-02T16:46:19.983716Z",
     "shell.execute_reply": "2022-11-02T16:46:19.980967Z"
    },
    "papermill": {
     "duration": 1.385131,
     "end_time": "2022-11-02T16:46:19.986370",
     "exception": false,
     "start_time": "2022-11-02T16:46:18.601239",
     "status": "completed"
    },
    "tags": []
   },
   "outputs": [
    {
     "name": "stdout",
     "output_type": "stream",
     "text": [
      "/kaggle/input/titanic/train.csv\n",
      "/kaggle/input/titanic/test.csv\n",
      "/kaggle/input/titanic/gender_submission.csv\n"
     ]
    }
   ],
   "source": [
    "import numpy as np \n",
    "import pandas as pd \n",
    "import seaborn as sns\n",
    "import matplotlib.pyplot as plt\n",
    "from sklearn.preprocessing import StandardScaler, OneHotEncoder\n",
    "from sklearn.impute import SimpleImputer\n",
    "from sklearn.pipeline import Pipeline\n",
    "from sklearn.compose import ColumnTransformer\n",
    "from sklearn.metrics import classification_report\n",
    "from sklearn.model_selection import train_test_split\n",
    "from sklearn.linear_model import LogisticRegression\n",
    "\n",
    "import os\n",
    "for dirname, _, filenames in os.walk('/kaggle/input'):\n",
    "    for filename in filenames:\n",
    "        print(os.path.join(dirname, filename))"
   ]
  },
  {
   "cell_type": "code",
   "execution_count": 2,
   "id": "7247895f",
   "metadata": {
    "execution": {
     "iopub.execute_input": "2022-11-02T16:46:19.994475Z",
     "iopub.status.busy": "2022-11-02T16:46:19.994121Z",
     "iopub.status.idle": "2022-11-02T16:46:20.049859Z",
     "shell.execute_reply": "2022-11-02T16:46:20.048817Z"
    },
    "papermill": {
     "duration": 0.062293,
     "end_time": "2022-11-02T16:46:20.052177",
     "exception": false,
     "start_time": "2022-11-02T16:46:19.989884",
     "status": "completed"
    },
    "tags": []
   },
   "outputs": [
    {
     "data": {
      "text/html": [
       "<div>\n",
       "<style scoped>\n",
       "    .dataframe tbody tr th:only-of-type {\n",
       "        vertical-align: middle;\n",
       "    }\n",
       "\n",
       "    .dataframe tbody tr th {\n",
       "        vertical-align: top;\n",
       "    }\n",
       "\n",
       "    .dataframe thead th {\n",
       "        text-align: right;\n",
       "    }\n",
       "</style>\n",
       "<table border=\"1\" class=\"dataframe\">\n",
       "  <thead>\n",
       "    <tr style=\"text-align: right;\">\n",
       "      <th></th>\n",
       "      <th>PassengerId</th>\n",
       "      <th>Survived</th>\n",
       "      <th>Pclass</th>\n",
       "      <th>Name</th>\n",
       "      <th>Sex</th>\n",
       "      <th>Age</th>\n",
       "      <th>SibSp</th>\n",
       "      <th>Parch</th>\n",
       "      <th>Ticket</th>\n",
       "      <th>Fare</th>\n",
       "      <th>Cabin</th>\n",
       "      <th>Embarked</th>\n",
       "    </tr>\n",
       "  </thead>\n",
       "  <tbody>\n",
       "    <tr>\n",
       "      <th>0</th>\n",
       "      <td>1</td>\n",
       "      <td>0</td>\n",
       "      <td>3</td>\n",
       "      <td>Braund, Mr. Owen Harris</td>\n",
       "      <td>male</td>\n",
       "      <td>22.0</td>\n",
       "      <td>1</td>\n",
       "      <td>0</td>\n",
       "      <td>A/5 21171</td>\n",
       "      <td>7.2500</td>\n",
       "      <td>NaN</td>\n",
       "      <td>S</td>\n",
       "    </tr>\n",
       "    <tr>\n",
       "      <th>1</th>\n",
       "      <td>2</td>\n",
       "      <td>1</td>\n",
       "      <td>1</td>\n",
       "      <td>Cumings, Mrs. John Bradley (Florence Briggs Th...</td>\n",
       "      <td>female</td>\n",
       "      <td>38.0</td>\n",
       "      <td>1</td>\n",
       "      <td>0</td>\n",
       "      <td>PC 17599</td>\n",
       "      <td>71.2833</td>\n",
       "      <td>C85</td>\n",
       "      <td>C</td>\n",
       "    </tr>\n",
       "    <tr>\n",
       "      <th>2</th>\n",
       "      <td>3</td>\n",
       "      <td>1</td>\n",
       "      <td>3</td>\n",
       "      <td>Heikkinen, Miss. Laina</td>\n",
       "      <td>female</td>\n",
       "      <td>26.0</td>\n",
       "      <td>0</td>\n",
       "      <td>0</td>\n",
       "      <td>STON/O2. 3101282</td>\n",
       "      <td>7.9250</td>\n",
       "      <td>NaN</td>\n",
       "      <td>S</td>\n",
       "    </tr>\n",
       "    <tr>\n",
       "      <th>3</th>\n",
       "      <td>4</td>\n",
       "      <td>1</td>\n",
       "      <td>1</td>\n",
       "      <td>Futrelle, Mrs. Jacques Heath (Lily May Peel)</td>\n",
       "      <td>female</td>\n",
       "      <td>35.0</td>\n",
       "      <td>1</td>\n",
       "      <td>0</td>\n",
       "      <td>113803</td>\n",
       "      <td>53.1000</td>\n",
       "      <td>C123</td>\n",
       "      <td>S</td>\n",
       "    </tr>\n",
       "    <tr>\n",
       "      <th>4</th>\n",
       "      <td>5</td>\n",
       "      <td>0</td>\n",
       "      <td>3</td>\n",
       "      <td>Allen, Mr. William Henry</td>\n",
       "      <td>male</td>\n",
       "      <td>35.0</td>\n",
       "      <td>0</td>\n",
       "      <td>0</td>\n",
       "      <td>373450</td>\n",
       "      <td>8.0500</td>\n",
       "      <td>NaN</td>\n",
       "      <td>S</td>\n",
       "    </tr>\n",
       "    <tr>\n",
       "      <th>...</th>\n",
       "      <td>...</td>\n",
       "      <td>...</td>\n",
       "      <td>...</td>\n",
       "      <td>...</td>\n",
       "      <td>...</td>\n",
       "      <td>...</td>\n",
       "      <td>...</td>\n",
       "      <td>...</td>\n",
       "      <td>...</td>\n",
       "      <td>...</td>\n",
       "      <td>...</td>\n",
       "      <td>...</td>\n",
       "    </tr>\n",
       "    <tr>\n",
       "      <th>886</th>\n",
       "      <td>887</td>\n",
       "      <td>0</td>\n",
       "      <td>2</td>\n",
       "      <td>Montvila, Rev. Juozas</td>\n",
       "      <td>male</td>\n",
       "      <td>27.0</td>\n",
       "      <td>0</td>\n",
       "      <td>0</td>\n",
       "      <td>211536</td>\n",
       "      <td>13.0000</td>\n",
       "      <td>NaN</td>\n",
       "      <td>S</td>\n",
       "    </tr>\n",
       "    <tr>\n",
       "      <th>887</th>\n",
       "      <td>888</td>\n",
       "      <td>1</td>\n",
       "      <td>1</td>\n",
       "      <td>Graham, Miss. Margaret Edith</td>\n",
       "      <td>female</td>\n",
       "      <td>19.0</td>\n",
       "      <td>0</td>\n",
       "      <td>0</td>\n",
       "      <td>112053</td>\n",
       "      <td>30.0000</td>\n",
       "      <td>B42</td>\n",
       "      <td>S</td>\n",
       "    </tr>\n",
       "    <tr>\n",
       "      <th>888</th>\n",
       "      <td>889</td>\n",
       "      <td>0</td>\n",
       "      <td>3</td>\n",
       "      <td>Johnston, Miss. Catherine Helen \"Carrie\"</td>\n",
       "      <td>female</td>\n",
       "      <td>NaN</td>\n",
       "      <td>1</td>\n",
       "      <td>2</td>\n",
       "      <td>W./C. 6607</td>\n",
       "      <td>23.4500</td>\n",
       "      <td>NaN</td>\n",
       "      <td>S</td>\n",
       "    </tr>\n",
       "    <tr>\n",
       "      <th>889</th>\n",
       "      <td>890</td>\n",
       "      <td>1</td>\n",
       "      <td>1</td>\n",
       "      <td>Behr, Mr. Karl Howell</td>\n",
       "      <td>male</td>\n",
       "      <td>26.0</td>\n",
       "      <td>0</td>\n",
       "      <td>0</td>\n",
       "      <td>111369</td>\n",
       "      <td>30.0000</td>\n",
       "      <td>C148</td>\n",
       "      <td>C</td>\n",
       "    </tr>\n",
       "    <tr>\n",
       "      <th>890</th>\n",
       "      <td>891</td>\n",
       "      <td>0</td>\n",
       "      <td>3</td>\n",
       "      <td>Dooley, Mr. Patrick</td>\n",
       "      <td>male</td>\n",
       "      <td>32.0</td>\n",
       "      <td>0</td>\n",
       "      <td>0</td>\n",
       "      <td>370376</td>\n",
       "      <td>7.7500</td>\n",
       "      <td>NaN</td>\n",
       "      <td>Q</td>\n",
       "    </tr>\n",
       "  </tbody>\n",
       "</table>\n",
       "<p>891 rows × 12 columns</p>\n",
       "</div>"
      ],
      "text/plain": [
       "     PassengerId  Survived  Pclass  \\\n",
       "0              1         0       3   \n",
       "1              2         1       1   \n",
       "2              3         1       3   \n",
       "3              4         1       1   \n",
       "4              5         0       3   \n",
       "..           ...       ...     ...   \n",
       "886          887         0       2   \n",
       "887          888         1       1   \n",
       "888          889         0       3   \n",
       "889          890         1       1   \n",
       "890          891         0       3   \n",
       "\n",
       "                                                  Name     Sex   Age  SibSp  \\\n",
       "0                              Braund, Mr. Owen Harris    male  22.0      1   \n",
       "1    Cumings, Mrs. John Bradley (Florence Briggs Th...  female  38.0      1   \n",
       "2                               Heikkinen, Miss. Laina  female  26.0      0   \n",
       "3         Futrelle, Mrs. Jacques Heath (Lily May Peel)  female  35.0      1   \n",
       "4                             Allen, Mr. William Henry    male  35.0      0   \n",
       "..                                                 ...     ...   ...    ...   \n",
       "886                              Montvila, Rev. Juozas    male  27.0      0   \n",
       "887                       Graham, Miss. Margaret Edith  female  19.0      0   \n",
       "888           Johnston, Miss. Catherine Helen \"Carrie\"  female   NaN      1   \n",
       "889                              Behr, Mr. Karl Howell    male  26.0      0   \n",
       "890                                Dooley, Mr. Patrick    male  32.0      0   \n",
       "\n",
       "     Parch            Ticket     Fare Cabin Embarked  \n",
       "0        0         A/5 21171   7.2500   NaN        S  \n",
       "1        0          PC 17599  71.2833   C85        C  \n",
       "2        0  STON/O2. 3101282   7.9250   NaN        S  \n",
       "3        0            113803  53.1000  C123        S  \n",
       "4        0            373450   8.0500   NaN        S  \n",
       "..     ...               ...      ...   ...      ...  \n",
       "886      0            211536  13.0000   NaN        S  \n",
       "887      0            112053  30.0000   B42        S  \n",
       "888      2        W./C. 6607  23.4500   NaN        S  \n",
       "889      0            111369  30.0000  C148        C  \n",
       "890      0            370376   7.7500   NaN        Q  \n",
       "\n",
       "[891 rows x 12 columns]"
      ]
     },
     "execution_count": 2,
     "metadata": {},
     "output_type": "execute_result"
    }
   ],
   "source": [
    "df = pd.read_csv(\"/kaggle/input/titanic/train.csv\")\n",
    "test_df = pd.read_csv(\"/kaggle/input/titanic/test.csv\")\n",
    "df"
   ]
  },
  {
   "cell_type": "code",
   "execution_count": 3,
   "id": "85a1fe11",
   "metadata": {
    "execution": {
     "iopub.execute_input": "2022-11-02T16:46:20.061232Z",
     "iopub.status.busy": "2022-11-02T16:46:20.060858Z",
     "iopub.status.idle": "2022-11-02T16:46:21.036192Z",
     "shell.execute_reply": "2022-11-02T16:46:21.035109Z"
    },
    "papermill": {
     "duration": 0.982889,
     "end_time": "2022-11-02T16:46:21.039015",
     "exception": false,
     "start_time": "2022-11-02T16:46:20.056126",
     "status": "completed"
    },
    "tags": []
   },
   "outputs": [
    {
     "data": {
      "image/png": "[encoded data removed]",
      "text/plain": [
       "<Figure size 720x432 with 6 Axes>"
      ]
     },
     "metadata": {
      "needs_background": "light"
     },
     "output_type": "display_data"
    }
   ],
   "source": [
    "# Feature Analysis\n",
    "\n",
    "fig, axs = plt.subplots(2, 3, constrained_layout=True, figsize=(10, 6))\n",
    "\n",
    "sns.countplot(data=df, ax=axs[0,0], x=\"Sex\", hue=\"Survived\")\n",
    "axs[0,0].set_title(\"Sex\")\n",
    "\n",
    "sns.countplot(data=df, ax=axs[0,1], x=\"Pclass\", hue=\"Survived\")\n",
    "axs[0,1].set_title(\"Passenger Class\")\n",
    "\n",
    "bins = [i for i in range(0,110, 15)]\n",
    "df['binned'] = pd.cut(df['Age'], bins)\n",
    "sns.countplot(data=df, ax=axs[0,2], x=\"binned\", hue=\"Survived\")\n",
    "axs[0,2].set_title(\"Age\")\n",
    "axs[0,2].set_xlabel(\"Age\")\n",
    "axs[0,2].set_xticklabels([])\n",
    "\n",
    "sns.countplot(data=df, ax=axs[1,0], x=\"SibSp\", hue=\"Survived\")\n",
    "axs[1,0].set_title(\"Siblings/Spouses\")\n",
    "\n",
    "sns.countplot(data=df, ax=axs[1,1], x=\"Embarked\", hue=\"Survived\")\n",
    "axs[1,1].set_title(\"Embarked From\")\n",
    "\n",
    "bins = [0, 10, 25, 50, 100]\n",
    "df['fare_binned'] = pd.cut(df['Fare'], bins)\n",
    "sns.countplot(data=df, ax=axs[1,2], x=\"fare_binned\", hue=\"Survived\")\n",
    "axs[1,2].set_title(\"Fare Paid\")\n",
    "axs[1,2].set_xticklabels([])\n",
    "\n",
    "plt.show()"
   ]
  },
  {
   "cell_type": "code",
   "execution_count": 4,
   "id": "a048967f",
   "metadata": {
    "execution": {
     "iopub.execute_input": "2022-11-02T16:46:21.049608Z",
     "iopub.status.busy": "2022-11-02T16:46:21.049196Z",
     "iopub.status.idle": "2022-11-02T16:46:21.073506Z",
     "shell.execute_reply": "2022-11-02T16:46:21.072459Z"
    },
    "papermill": {
     "duration": 0.032154,
     "end_time": "2022-11-02T16:46:21.075764",
     "exception": false,
     "start_time": "2022-11-02T16:46:21.043610",
     "status": "completed"
    },
    "tags": []
   },
   "outputs": [
    {
     "data": {
      "text/html": [
       "<div>\n",
       "<style scoped>\n",
       "    .dataframe tbody tr th:only-of-type {\n",
       "        vertical-align: middle;\n",
       "    }\n",
       "\n",
       "    .dataframe tbody tr th {\n",
       "        vertical-align: top;\n",
       "    }\n",
       "\n",
       "    .dataframe thead th {\n",
       "        text-align: right;\n",
       "    }\n",
       "</style>\n",
       "<table border=\"1\" class=\"dataframe\">\n",
       "  <thead>\n",
       "    <tr style=\"text-align: right;\">\n",
       "      <th></th>\n",
       "      <th>binned</th>\n",
       "      <th>count</th>\n",
       "      <th>sum</th>\n",
       "      <th>percent</th>\n",
       "    </tr>\n",
       "  </thead>\n",
       "  <tbody>\n",
       "    <tr>\n",
       "      <th>0</th>\n",
       "      <td>(0, 15]</td>\n",
       "      <td>83</td>\n",
       "      <td>49</td>\n",
       "      <td>0.590361</td>\n",
       "    </tr>\n",
       "    <tr>\n",
       "      <th>1</th>\n",
       "      <td>(15, 30]</td>\n",
       "      <td>326</td>\n",
       "      <td>117</td>\n",
       "      <td>0.358896</td>\n",
       "    </tr>\n",
       "    <tr>\n",
       "      <th>2</th>\n",
       "      <td>(30, 45]</td>\n",
       "      <td>202</td>\n",
       "      <td>86</td>\n",
       "      <td>0.425743</td>\n",
       "    </tr>\n",
       "    <tr>\n",
       "      <th>3</th>\n",
       "      <td>(45, 60]</td>\n",
       "      <td>81</td>\n",
       "      <td>33</td>\n",
       "      <td>0.407407</td>\n",
       "    </tr>\n",
       "    <tr>\n",
       "      <th>4</th>\n",
       "      <td>(60, 75]</td>\n",
       "      <td>21</td>\n",
       "      <td>4</td>\n",
       "      <td>0.190476</td>\n",
       "    </tr>\n",
       "    <tr>\n",
       "      <th>5</th>\n",
       "      <td>(75, 90]</td>\n",
       "      <td>1</td>\n",
       "      <td>1</td>\n",
       "      <td>1.000000</td>\n",
       "    </tr>\n",
       "    <tr>\n",
       "      <th>6</th>\n",
       "      <td>(90, 105]</td>\n",
       "      <td>0</td>\n",
       "      <td>0</td>\n",
       "      <td>NaN</td>\n",
       "    </tr>\n",
       "  </tbody>\n",
       "</table>\n",
       "</div>"
      ],
      "text/plain": [
       "      binned  count  sum   percent\n",
       "0    (0, 15]     83   49  0.590361\n",
       "1   (15, 30]    326  117  0.358896\n",
       "2   (30, 45]    202   86  0.425743\n",
       "3   (45, 60]     81   33  0.407407\n",
       "4   (60, 75]     21    4  0.190476\n",
       "5   (75, 90]      1    1  1.000000\n",
       "6  (90, 105]      0    0       NaN"
      ]
     },
     "execution_count": 4,
     "metadata": {},
     "output_type": "execute_result"
    }
   ],
   "source": [
    "groupbydf = df[[\"binned\", \"Survived\"]].groupby(\"binned\", dropna=False).agg([\"count\", \"sum\"])\n",
    "groupbydf.columns = groupbydf.columns.droplevel()\n",
    "groupbydf = groupbydf.reset_index()\n",
    "groupbydf[\"percent\"] = groupbydf[\"sum\"]/groupbydf[\"count\"]\n",
    "groupbydf"
   ]
  },
  {
   "cell_type": "code",
   "execution_count": 5,
   "id": "43f7cb20",
   "metadata": {
    "execution": {
     "iopub.execute_input": "2022-11-02T16:46:21.086321Z",
     "iopub.status.busy": "2022-11-02T16:46:21.085925Z",
     "iopub.status.idle": "2022-11-02T16:46:21.117688Z",
     "shell.execute_reply": "2022-11-02T16:46:21.116439Z"
    },
    "papermill": {
     "duration": 0.040015,
     "end_time": "2022-11-02T16:46:21.120377",
     "exception": false,
     "start_time": "2022-11-02T16:46:21.080362",
     "status": "completed"
    },
    "tags": []
   },
   "outputs": [
    {
     "name": "stdout",
     "output_type": "stream",
     "text": [
      "Mr.          517\n",
      "Miss.        182\n",
      "Mrs.         125\n",
      "Master.       40\n",
      "Dr.            7\n",
      "Rev.           6\n",
      "Mlle.          2\n",
      "Major.         2\n",
      "Col.           2\n",
      "the            1\n",
      "Capt.          1\n",
      "Ms.            1\n",
      "Sir.           1\n",
      "Lady.          1\n",
      "Mme.           1\n",
      "Don.           1\n",
      "Jonkheer.      1\n",
      "Name: Title, dtype: int64\n"
     ]
    }
   ],
   "source": [
    "def get_title(x):\n",
    "    return x['Name'].split(',')[1].split(' ')[1]\n",
    "\n",
    "df['Title'] = df.apply(get_title, axis=1)\n",
    "test_df['Title'] = test_df.apply(get_title, axis=1)\n",
    "\n",
    "print(df['Title'].value_counts())"
   ]
  },
  {
   "cell_type": "code",
   "execution_count": 6,
   "id": "64fb19ca",
   "metadata": {
    "execution": {
     "iopub.execute_input": "2022-11-02T16:46:21.131208Z",
     "iopub.status.busy": "2022-11-02T16:46:21.130806Z",
     "iopub.status.idle": "2022-11-02T16:46:21.140233Z",
     "shell.execute_reply": "2022-11-02T16:46:21.139388Z"
    },
    "papermill": {
     "duration": 0.017142,
     "end_time": "2022-11-02T16:46:21.142309",
     "exception": false,
     "start_time": "2022-11-02T16:46:21.125167",
     "status": "completed"
    },
    "tags": []
   },
   "outputs": [],
   "source": [
    "# Feature Selection\n",
    "\n",
    "X = df[[\"Pclass\", \"Sex\", \"Age\", \"SibSp\", \"Fare\", \"Embarked\", \"Title\"]]\n",
    "y = df[\"Survived\"]\n",
    "X_train, X_test, y_train, y_test = train_test_split(X, y, test_size=0.33, random_state=42)"
   ]
  },
  {
   "cell_type": "code",
   "execution_count": 7,
   "id": "9f0aa130",
   "metadata": {
    "execution": {
     "iopub.execute_input": "2022-11-02T16:46:21.152761Z",
     "iopub.status.busy": "2022-11-02T16:46:21.152406Z",
     "iopub.status.idle": "2022-11-02T16:46:21.234351Z",
     "shell.execute_reply": "2022-11-02T16:46:21.233207Z"
    },
    "papermill": {
     "duration": 0.089785,
     "end_time": "2022-11-02T16:46:21.236684",
     "exception": false,
     "start_time": "2022-11-02T16:46:21.146899",
     "status": "completed"
    },
    "tags": []
   },
   "outputs": [
    {
     "data": {
      "text/plain": [
       "Pipeline(steps=[('preprocessor',\n",
       "                 ColumnTransformer(transformers=[('num',\n",
       "                                                  Pipeline(steps=[('imputer',\n",
       "                                                                   SimpleImputer(strategy='median')),\n",
       "                                                                  ('scaler',\n",
       "                                                                   StandardScaler())]),\n",
       "                                                  ['Age', 'Fare', 'SibSp']),\n",
       "                                                 ('cat',\n",
       "                                                  Pipeline(steps=[('imputer',\n",
       "                                                                   SimpleImputer(fill_value='missing',\n",
       "                                                                                 strategy='constant')),\n",
       "                                                                  ('onehot',\n",
       "                                                                   OneHotEncoder(handle_unknown='ignore'))]),\n",
       "                                                  ['Sex', 'Pclass', 'Embarked',\n",
       "                                                   'Title'])])),\n",
       "                ('classifier', LogisticRegression(random_state=0))])"
      ]
     },
     "execution_count": 7,
     "metadata": {},
     "output_type": "execute_result"
    }
   ],
   "source": [
    "# Scikit Learn Pipeline\n",
    "\n",
    "numerical_features = ['Age', 'Fare', 'SibSp']\n",
    "numerical_transformer = Pipeline(\n",
    "    steps=[\n",
    "        ('imputer', SimpleImputer(strategy='median')),\n",
    "        ('scaler', StandardScaler())\n",
    "    ]\n",
    ")\n",
    "\n",
    "categorical_features = ['Sex', 'Pclass', 'Embarked', 'Title']\n",
    "categorical_transformer = Pipeline(\n",
    "    steps=[\n",
    "        ('imputer', SimpleImputer(strategy='constant', fill_value='missing')),\n",
    "        ('onehot', OneHotEncoder(handle_unknown='ignore'))\n",
    "    ]\n",
    ")\n",
    "\n",
    "preprocessor = ColumnTransformer(\n",
    "    transformers=[\n",
    "        ('num', numerical_transformer, numerical_features),\n",
    "        ('cat', categorical_transformer, categorical_features)\n",
    "    ]\n",
    ")\n",
    "\n",
    "classifier = LogisticRegression(random_state=0)\n",
    "\n",
    "pipe = Pipeline(steps=[('preprocessor', preprocessor),\n",
    "                      ('classifier', classifier)])\n",
    "pipe.fit(X_train, y_train)"
   ]
  },
  {
   "cell_type": "code",
   "execution_count": 8,
   "id": "fb6fb325",
   "metadata": {
    "execution": {
     "iopub.execute_input": "2022-11-02T16:46:21.247593Z",
     "iopub.status.busy": "2022-11-02T16:46:21.247215Z",
     "iopub.status.idle": "2022-11-02T16:46:21.266670Z",
     "shell.execute_reply": "2022-11-02T16:46:21.265354Z"
    },
    "papermill": {
     "duration": 0.028476,
     "end_time": "2022-11-02T16:46:21.269754",
     "exception": false,
     "start_time": "2022-11-02T16:46:21.241278",
     "status": "completed"
    },
    "tags": []
   },
   "outputs": [
    {
     "name": "stdout",
     "output_type": "stream",
     "text": [
      "              precision    recall  f1-score   support\n",
      "\n",
      "           0       0.86      0.86      0.86       175\n",
      "           1       0.80      0.79      0.79       120\n",
      "\n",
      "    accuracy                           0.83       295\n",
      "   macro avg       0.83      0.83      0.83       295\n",
      "weighted avg       0.83      0.83      0.83       295\n",
      "\n"
     ]
    }
   ],
   "source": [
    "# Scoring the Validation Set\n",
    "\n",
    "y_pred = pipe.predict(X_test)\n",
    "print(classification_report(y_test, y_pred))"
   ]
  },
  {
   "cell_type": "code",
   "execution_count": 9,
   "id": "bea6982f",
   "metadata": {
    "execution": {
     "iopub.execute_input": "2022-11-02T16:46:21.280672Z",
     "iopub.status.busy": "2022-11-02T16:46:21.280292Z",
     "iopub.status.idle": "2022-11-02T16:46:21.301165Z",
     "shell.execute_reply": "2022-11-02T16:46:21.300267Z"
    },
    "papermill": {
     "duration": 0.029398,
     "end_time": "2022-11-02T16:46:21.303905",
     "exception": false,
     "start_time": "2022-11-02T16:46:21.274507",
     "status": "completed"
    },
    "tags": []
   },
   "outputs": [],
   "source": [
    "# Preparing Predictions for Submission\n",
    "\n",
    "test = test_df[[\"Pclass\", \"Sex\", \"Age\", \"SibSp\", \"Fare\", \"Embarked\", 'Title']]\n",
    "\n",
    "y_test_pred = pipe.predict(test)\n",
    "\n",
    "output = pd.DataFrame()\n",
    "output[\"PassengerId\"] = test_df[\"PassengerId\"]\n",
    "output[\"Survived\"] = y_test_pred\n",
    "output.to_csv(\"/kaggle/working/submission_v1.csv\", index=False)"
   ]
  },
  {
   "cell_type": "code",
   "execution_count": null,
   "id": "5f62eee5",
   "metadata": {
    "papermill": {
     "duration": 0.004249,
     "end_time": "2022-11-02T16:46:21.312963",
     "exception": false,
     "start_time": "2022-11-02T16:46:21.308714",
     "status": "completed"
    },
    "tags": []
   },
   "outputs": [],
   "source": []
  }
 ],
 "metadata": {
  "kernelspec": {
   "display_name": "Python 3",
   "language": "python",
   "name": "python3"
  },
  "language_info": {
   "codemirror_mode": {
    "name": "ipython",
    "version": 3
   },
   "file_extension": ".py",
   "mimetype": "text/x-python",
   "name": "python",
   "nbconvert_exporter": "python",
   "pygments_lexer": "ipython3",
   "version": "3.7.12"
  },
  "papermill": {
   "default_parameters": {},
   "duration": 11.710786,
   "end_time": "2022-11-02T16:46:22.038512",
   "environment_variables": {},
   "exception": null,
   "input_path": "__notebook__.ipynb",
   "output_path": "__notebook__.ipynb",
   "parameters": {},
   "start_time": "2022-11-02T16:46:10.327726",
   "version": "2.3.4"
  }
 },
 "nbformat": 4,
 "nbformat_minor": 5
}
